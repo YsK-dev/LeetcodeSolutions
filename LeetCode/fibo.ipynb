{
 "cells": [
  {
   "cell_type": "code",
   "id": "initial_id",
   "metadata": {
    "collapsed": true,
    "ExecuteTime": {
     "end_time": "2024-07-20T11:44:46.820123Z",
     "start_time": "2024-07-20T11:44:46.814885Z"
    }
   },
   "source": [
    "def fibonacci(f):\n",
    "    if f <= 1:  # Correct base case\n",
    "        return f\n",
    "    else:\n",
    "        return fibonacci(f - 1) + fibonacci(f - 2)\n",
    "\n",
    "print(\"Fibonacci of 19 is\", fibonacci(19))\n"
   ],
   "outputs": [
    {
     "name": "stdout",
     "output_type": "stream",
     "text": [
      "Fibonacci of 19 is 4181\n"
     ]
    }
   ],
   "execution_count": 3
  },
  {
   "metadata": {
    "ExecuteTime": {
     "end_time": "2024-07-20T11:47:51.177150Z",
     "start_time": "2024-07-20T11:47:49.739773Z"
    }
   },
   "cell_type": "code",
   "source": [
    "def fibonacci_sequence(n):\n",
    "    seq = []\n",
    "    for i in range(n):\n",
    "        seq.append(fibonacci(i))\n",
    "    return seq\n",
    "\n",
    "def fibsum(n):\n",
    "    seq = fibonacci_sequence(n)\n",
    "    total_sum = sum(seq)\n",
    "    return total_sum\n",
    "n = int(input( \"give me number\"))\n",
    "# Example usage\n",
    "fibonacci_number = fibonacci(n)\n",
    "print(\"sequence of fibonacci number is\", fibonacci_sequence(n))\n",
    "print(f\"Fibonacci of \",n,\" is\", fibonacci_number)\n",
    "fib_sum = fibsum(n)\n",
    "print(\"Sum of first \",n,\" Fibonacci numbers is\", fib_sum)\n",
    "\n"
   ],
   "id": "3c05695d09bcf8a7",
   "outputs": [
    {
     "name": "stdout",
     "output_type": "stream",
     "text": [
      "sequence of fibonacci number is [0, 1, 1, 2, 3]\n",
      "Fibonacci of  5  is 5\n",
      "Sum of first  5  Fibonacci numbers is 7\n"
     ]
    }
   ],
   "execution_count": 8
  },
  {
   "metadata": {},
   "cell_type": "markdown",
   "source": "![title](/Users/yusufsertkaya/img/mathCatalan.png)\n",
   "id": "23bc7bd14ce2b58c"
  },
  {
   "metadata": {},
   "cell_type": "markdown",
   "source": [
    "In combinatorial mathematics, the Catalan numbers are a sequence of natural numbers that occur in various counting problems, often involving recursively defined objects. They are named after the French-Belgian mathematician Eugène Charles Catalan, though they were previously discovered in the 1730s by Minggatu.\n",
    "\n",
    "The n-th Catalan number can be expressed directly in terms of the central binomial coefficients by\n",
    "\n",
    "\n",
    "The first Catalan numbers for n = 0, 1, 2, 3, ... are\n",
    "\n",
    "1, 1, 2, 5, 14, 42, 132, 429, 1430, 4862, 16796, 58786, ... (sequence A000108 in the OEIS)."
   ],
   "id": "97bfa78d383ab61c"
  },
  {
   "metadata": {
    "ExecuteTime": {
     "end_time": "2024-07-20T17:27:40.853030Z",
     "start_time": "2024-07-20T17:27:40.850258Z"
    }
   },
   "cell_type": "code",
   "source": [
    "def catalan_recurrence(n):\n",
    "    # Base case\n",
    "    if n == 0:\n",
    "        return 1\n",
    "    # Recursive case\n",
    "    catalan_n = 0\n",
    "    for i in range(n):\n",
    "        catalan_n += catalan_recurrence(i) * catalan_recurrence(n - 1 - i)\n",
    "    return catalan_n\n",
    "\n",
    "# Example usage\n",
    "n = 5\n",
    "catalan_value = catalan_recurrence(n)\n",
    "print(f\"Catalan number C({n}) is {catalan_value}\")\n"
   ],
   "id": "52e12c09a521894f",
   "outputs": [
    {
     "name": "stdout",
     "output_type": "stream",
     "text": [
      "Catalan number C(5) is 42\n"
     ]
    }
   ],
   "execution_count": 14
  },
  {
   "metadata": {},
   "cell_type": "code",
   "source": [
    "def catalan_memo(n, memo={}):\n",
    "    # Base case\n",
    "    if n == 0:\n",
    "        return 1\n",
    "    # Check if the value is already computed\n",
    "    if n in memo:\n",
    "        return memo[n]\n",
    "    # Recursive case with memoization\n",
    "    catalan_n = 0\n",
    "    for i in range(n):\n",
    "        catalan_n += catalan_memo(i, memo) * catalan_memo(n - 1 - i, memo)\n",
    "    memo[n] = catalan_n\n",
    "    return catalan_n\n",
    "\n",
    "# Example usage\n",
    "n = 5\n",
    "catalan_value_memo = catalan_memo(n)\n",
    "print(f\"Catalan number C({n}) with memoization is {catalan_value_memo}\")\n"
   ],
   "id": "efef3be3a5180c0",
   "outputs": [],
   "execution_count": null
  },
  {
   "metadata": {},
   "cell_type": "markdown",
   "source": "",
   "id": "fa6916148dc6dfc0"
  },
  {
   "metadata": {},
   "cell_type": "code",
   "outputs": [],
   "execution_count": null,
   "source": "",
   "id": "d6254f7ad300ae9b"
  }
 ],
 "metadata": {
  "kernelspec": {
   "display_name": "Python 3",
   "language": "python",
   "name": "python3"
  },
  "language_info": {
   "codemirror_mode": {
    "name": "ipython",
    "version": 2
   },
   "file_extension": ".py",
   "mimetype": "text/x-python",
   "name": "python",
   "nbconvert_exporter": "python",
   "pygments_lexer": "ipython2",
   "version": "2.7.6"
  }
 },
 "nbformat": 4,
 "nbformat_minor": 5
}
