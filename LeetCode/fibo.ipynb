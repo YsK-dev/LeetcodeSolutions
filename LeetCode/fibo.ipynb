{
 "cells": [
  {
   "cell_type": "code",
   "id": "initial_id",
   "metadata": {
    "collapsed": true,
    "ExecuteTime": {
     "end_time": "2024-07-20T11:44:46.820123Z",
     "start_time": "2024-07-20T11:44:46.814885Z"
    }
   },
   "source": [
    "def fibonacci(f):\n",
    "    if f <= 1:  # Correct base case\n",
    "        return f\n",
    "    else:\n",
    "        return fibonacci(f - 1) + fibonacci(f - 2)\n",
    "\n",
    "print(\"Fibonacci of 19 is\", fibonacci(19))\n"
   ],
   "outputs": [
    {
     "name": "stdout",
     "output_type": "stream",
     "text": [
      "Fibonacci of 19 is 4181\n"
     ]
    }
   ],
   "execution_count": 3
  },
  {
   "metadata": {
    "ExecuteTime": {
     "end_time": "2024-07-20T11:47:51.177150Z",
     "start_time": "2024-07-20T11:47:49.739773Z"
    }
   },
   "cell_type": "code",
   "source": [
    "def fibonacci_sequence(n):\n",
    "    seq = []\n",
    "    for i in range(n):\n",
    "        seq.append(fibonacci(i))\n",
    "    return seq\n",
    "\n",
    "def fibsum(n):\n",
    "    seq = fibonacci_sequence(n)\n",
    "    total_sum = sum(seq)\n",
    "    return total_sum\n",
    "n = int(input( \"give me number\"))\n",
    "# Example usage\n",
    "fibonacci_number = fibonacci(n)\n",
    "print(\"sequence of fibonacci number is\", fibonacci_sequence(n))\n",
    "print(f\"Fibonacci of \",n,\" is\", fibonacci_number)\n",
    "fib_sum = fibsum(n)\n",
    "print(\"Sum of first \",n,\" Fibonacci numbers is\", fib_sum)\n",
    "\n"
   ],
   "id": "3c05695d09bcf8a7",
   "outputs": [
    {
     "name": "stdout",
     "output_type": "stream",
     "text": [
      "sequence of fibonacci number is [0, 1, 1, 2, 3]\n",
      "Fibonacci of  5  is 5\n",
      "Sum of first  5  Fibonacci numbers is 7\n"
     ]
    }
   ],
   "execution_count": 8
  },
  {
   "metadata": {},
   "cell_type": "code",
   "outputs": [],
   "execution_count": null,
   "source": "",
   "id": "52e12c09a521894f"
  }
 ],
 "metadata": {
  "kernelspec": {
   "display_name": "Python 3",
   "language": "python",
   "name": "python3"
  },
  "language_info": {
   "codemirror_mode": {
    "name": "ipython",
    "version": 2
   },
   "file_extension": ".py",
   "mimetype": "text/x-python",
   "name": "python",
   "nbconvert_exporter": "python",
   "pygments_lexer": "ipython2",
   "version": "2.7.6"
  }
 },
 "nbformat": 4,
 "nbformat_minor": 5
}
