{
 "cells": [
  {
   "cell_type": "code",
   "id": "initial_id",
   "metadata": {
    "collapsed": true,
    "ExecuteTime": {
     "end_time": "2024-07-22T12:20:45.735264Z",
     "start_time": "2024-07-22T12:20:45.729088Z"
    }
   },
   "source": [
    "def binarySearch(Array, target):\n",
    "    left, right = 0, len(Array) - 1\n",
    "\n",
    "    while left <= right:\n",
    "        mid=left+right\n",
    "        mid=mid//2\n",
    "\n",
    "        # Check if target is present at mid if it is lucky me 🎉\n",
    "        if Array[mid] == target:\n",
    "            print(\"Horray ı found ıt ın fırst try\")\n",
    "            return mid\n",
    "\n",
    "        # If target is greater, ignore the left half and contınue\n",
    "        elif Array[mid] < target:\n",
    "            left = mid + 1\n",
    "\n",
    "        # If target is smaller, ignore the right half same thıng that ı make before\n",
    "        else:\n",
    "            right = mid - 1\n",
    "\n",
    "    # Target is not present in the array\n",
    "    return -1\n",
    "\n",
    "# Example usage\n",
    "array = [2, 3, 4, 10, 40,60,66,67,68,69,70,71,72]\n",
    "exampleTarget = 10\n",
    "\n",
    "# Function call\n",
    "result = binarySearch(array, exampleTarget)\n",
    "\n",
    "if result != -1:\n",
    "    print(f\"Element is present at index {result}\")\n",
    "else:\n",
    "    print(\"Element is not present in array\")\n"
   ],
   "outputs": [
    {
     "name": "stdout",
     "output_type": "stream",
     "text": [
      "Horray ı found ıt ın fırst try\n",
      "Element is present at index 3\n"
     ]
    }
   ],
   "execution_count": 6
  },
  {
   "metadata": {},
   "cell_type": "markdown",
   "source": "",
   "id": "383a182554fa9a91"
  },
  {
   "metadata": {
    "ExecuteTime": {
     "end_time": "2024-07-22T12:21:49.226655Z",
     "start_time": "2024-07-22T12:21:49.220624Z"
    }
   },
   "cell_type": "code",
   "source": [
    "def binarySearch(Array, target):\n",
    "    left, right = 0, len(Array) - 1\n",
    "\n",
    "    while left <= right:\n",
    "        mid = left + (right - left) // 2\n",
    "\n",
    "        # Check if target is present at mid\n",
    "        if Array[mid] == target:\n",
    "            print(\"Horray, I found it!\")\n",
    "            return mid\n",
    "\n",
    "        # If target is greater, ignore the left half\n",
    "        elif Array[mid] < target:\n",
    "            left = mid + 1\n",
    "\n",
    "        # If target is smaller, ignore the right half\n",
    "        else:\n",
    "            right = mid - 1\n",
    "\n",
    "    # Target is not present in the array\n",
    "    return -1\n",
    "\n",
    "# Example usage\n",
    "array = [2, 3, 4, 10, 40, 60, 66, 67, 68, 69, 70, 71, 72]\n",
    "exampleTarget = 10\n",
    "\n",
    "# Function call\n",
    "result = binarySearch(array, exampleTarget)\n",
    "\n",
    "if result != -1:\n",
    "    print(f\"Element is present at index {result}\")\n",
    "else:\n",
    "    print(\"Element is not present in array\")\n"
   ],
   "id": "3a73c8162ab9e3c",
   "outputs": [
    {
     "name": "stdout",
     "output_type": "stream",
     "text": [
      "Horray, I found it!\n",
      "Element is present at index 3\n"
     ]
    }
   ],
   "execution_count": 7
  },
  {
   "metadata": {
    "ExecuteTime": {
     "end_time": "2024-07-22T12:26:17.062821Z",
     "start_time": "2024-07-22T12:26:17.057103Z"
    }
   },
   "cell_type": "code",
   "source": [
    "def binarySearch(Array, target):\n",
    "    left, right = 0, len(Array) - 1\n",
    "    firstTry = True  # Flag to check if it's the first iteration \n",
    "\n",
    "    while left <= right:\n",
    "        mid = left + (right - left) // 2\n",
    "\n",
    "        # Check if target is present at mid\n",
    "        if Array[mid] == target:\n",
    "            if firstTry:\n",
    "                print(\"Horray, I found it in the first try what A genious algo I am :D!\")\n",
    "            else:\n",
    "                print(\"Horray, I found it!\")\n",
    "            return mid\n",
    "\n",
    "        # If target is greater, ignore the left half\n",
    "        elif Array[mid] < target:\n",
    "            left = mid + 1\n",
    "\n",
    "        # If target is smaller, ignore the right half\n",
    "        else:\n",
    "            right = mid - 1\n",
    "\n",
    "        # After the first iteration, set the flag to False\n",
    "        first_try = False\n",
    "\n",
    "    # Target is not present in the array\n",
    "    return -1\n",
    "\n",
    "# Example usage\n",
    "array = [2, 3, 4, 10, 40, 60, 66, 67, 68, 69, 70, 71, 72]\n",
    "exampleTarget = 10\n",
    "\n",
    "# Function call\n",
    "result = binarySearch(array, exampleTarget)\n",
    "\n",
    "if result != -1:\n",
    "    print(f\"Element is present at index {result}\")\n",
    "else:\n",
    "    print(\"Element is not present in array\")\n"
   ],
   "id": "964b3afd57d1323c",
   "outputs": [
    {
     "name": "stdout",
     "output_type": "stream",
     "text": [
      "Horray, I found it in the first try what A genious algo I am :D!\n",
      "Element is present at index 3\n"
     ]
    }
   ],
   "execution_count": 13
  },
  {
   "metadata": {},
   "cell_type": "markdown",
   "source": "I just wanna see how thıngs works",
   "id": "643bd810ecb16386"
  },
  {
   "metadata": {
    "ExecuteTime": {
     "end_time": "2024-07-22T12:26:05.472403Z",
     "start_time": "2024-07-22T12:26:05.467086Z"
    }
   },
   "cell_type": "code",
   "source": [
    "def binarySearch(Array, target):\n",
    "    left, right = 0, len(Array) - 1\n",
    "    firstTry = True  # Flag to check if it's the first iteration \n",
    "\n",
    "    while left <= right:\n",
    "        mid = (right +left) // 2\n",
    "\n",
    "        # Check if target is present at mid\n",
    "        if Array[mid] == target:\n",
    "            if firstTry:\n",
    "                print(\"Horray, I found it in the first try what A genious algo I am :D!\")\n",
    "            else:\n",
    "                print(\"Horray, I found it!\")\n",
    "            return mid\n",
    "\n",
    "        # If target is greater, ignore the left half\n",
    "        elif Array[mid] < target:\n",
    "            left = mid + 1\n",
    "\n",
    "        # If target is smaller, ignore the right half\n",
    "        else:\n",
    "            right = mid - 1\n",
    "\n",
    "        # After the first iteration, set the flag to False\n",
    "        first_try = False\n",
    "\n",
    "    # Target is not present in the array\n",
    "    return -1\n",
    "\n",
    "# Example usage\n",
    "array = [2, 3, 4, 10, 40, 60, 66, 67, 68, 69, 70, 71, 72]\n",
    "exampleTarget = 10\n",
    "\n",
    "# Function call\n",
    "result = binarySearch(array, exampleTarget)\n",
    "\n",
    "if result != -1:\n",
    "    print(f\"Element is present at index {result}\")\n",
    "else:\n",
    "    print(\"Element is not present in array\")\n"
   ],
   "id": "7a9308c220ee004d",
   "outputs": [
    {
     "name": "stdout",
     "output_type": "stream",
     "text": [
      "Horray, I found it in the first try what A genious algo I am :D!\n",
      "Element is present at index 3\n"
     ]
    }
   ],
   "execution_count": 11
  },
  {
   "metadata": {
    "ExecuteTime": {
     "end_time": "2024-07-22T12:33:23.407786Z",
     "start_time": "2024-07-22T12:33:23.401709Z"
    }
   },
   "cell_type": "code",
   "source": [
    "def binarySearch(Array, target):\n",
    "    left, right = 0, len(Array) - 1\n",
    "    steps = 0  # an basic counter to track the number of steps \n",
    "\n",
    "    while left <= right:\n",
    "        steps += 1\n",
    "        mid = (right + left) // 2\n",
    "\n",
    "        # Check if target is present at mid\n",
    "        if Array[mid] == target:\n",
    "            print(f\"Horray, I found it in step--> {steps} \")\n",
    "            return mid\n",
    "\n",
    "        # If target is greater, ignore the left half\n",
    "        elif Array[mid] < target:\n",
    "            left = mid + 1\n",
    "\n",
    "        # If target is smaller, ignore the right half\n",
    "        else:\n",
    "            right = mid - 1\n",
    "\n",
    "    # Target is not present in the array\n",
    "    return -1\n",
    "\n",
    "# Example usage\n",
    "array = [2, 3, 4, 10, 40, 60, 66, 67, 68, 69, 70, 71, 72]\n",
    "exampleTarget = 69\n",
    "\n",
    "# Function call\n",
    "result = binarySearch(array, exampleTarget)\n",
    "\n",
    "if result != -1:\n",
    "    print(f\"Element is present at index--> {result}\")\n",
    "else:\n",
    "    print(\"Element is not present in array Sorry\")\n"
   ],
   "id": "beb5fee04249c084",
   "outputs": [
    {
     "name": "stdout",
     "output_type": "stream",
     "text": [
      "Horray, I found it in step--> 2 \n",
      "Element is present at index--> 9\n"
     ]
    }
   ],
   "execution_count": 20
  },
  {
   "metadata": {},
   "cell_type": "code",
   "outputs": [],
   "execution_count": null,
   "source": "",
   "id": "a51bebe4951a71ef"
  },
  {
   "metadata": {},
   "cell_type": "markdown",
   "source": [
    "https://www.cs.usfca.edu/~galles/visualization/Search.html\n",
    "from that site making it visually was better\n"
   ],
   "id": "1934b51997606472"
  }
 ],
 "metadata": {
  "kernelspec": {
   "display_name": "Python 3",
   "language": "python",
   "name": "python3"
  },
  "language_info": {
   "codemirror_mode": {
    "name": "ipython",
    "version": 2
   },
   "file_extension": ".py",
   "mimetype": "text/x-python",
   "name": "python",
   "nbconvert_exporter": "python",
   "pygments_lexer": "ipython2",
   "version": "2.7.6"
  }
 },
 "nbformat": 4,
 "nbformat_minor": 5
}
