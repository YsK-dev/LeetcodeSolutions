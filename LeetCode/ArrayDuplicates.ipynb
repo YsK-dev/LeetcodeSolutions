{
 "cells": [
  {
   "cell_type": "code",
   "execution_count": null,
   "id": "initial_id",
   "metadata": {
    "collapsed": true
   },
   "outputs": [],
   "source": [
    ""
   ]
  },
  {
   "metadata": {
    "ExecuteTime": {
     "end_time": "2024-07-19T14:38:41.584066Z",
     "start_time": "2024-07-19T14:38:41.579441Z"
    }
   },
   "cell_type": "code",
   "source": [
    "from typing import List\n",
    "\n",
    "class Solution:\n",
    "    def duplicates(self, n: int, arr: List[int]) -> List[int]:\n",
    "        # Create a dictionary to count occurrences\n",
    "        count = {}\n",
    "        for num in arr:\n",
    "            if num in count:\n",
    "                count[num] += 1\n",
    "            else:\n",
    "                count[num] = 1\n",
    "        \n",
    "        # Find duplicates\n",
    "        duplicates = [num for num, freq in count.items() if freq > 1]\n",
    "        \n",
    "        # If no duplicates found, return [-1]\n",
    "        if not duplicates:\n",
    "            return [-1]\n",
    "        \n",
    "        # Return duplicates sorted\n",
    "        return sorted(duplicates)\n",
    "\n",
    "# Example usage:\n",
    "sol = Solution()\n",
    "print(sol.duplicates(5, [2, 3, 1, 2, 3]))  # Output: [2, 3]\n",
    "print(sol.duplicates(4, [0, 3, 1, 2]))  # Output: [-1]\n"
   ],
   "id": "fced696067373966",
   "outputs": [
    {
     "name": "stdout",
     "output_type": "stream",
     "text": [
      "[2, 3]\n",
      "[-1]\n"
     ]
    }
   ],
   "execution_count": 1
  },
  {
   "metadata": {},
   "cell_type": "code",
   "outputs": [],
   "execution_count": null,
   "source": "",
   "id": "26cd2889254d44fd"
  }
 ],
 "metadata": {
  "kernelspec": {
   "display_name": "Python 3",
   "language": "python",
   "name": "python3"
  },
  "language_info": {
   "codemirror_mode": {
    "name": "ipython",
    "version": 2
   },
   "file_extension": ".py",
   "mimetype": "text/x-python",
   "name": "python",
   "nbconvert_exporter": "python",
   "pygments_lexer": "ipython2",
   "version": "2.7.6"
  }
 },
 "nbformat": 4,
 "nbformat_minor": 5
}
