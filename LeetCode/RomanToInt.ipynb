{
 "cells": [
  {
   "cell_type": "code",
   "execution_count": null,
   "id": "initial_id",
   "metadata": {
    "collapsed": true
   },
   "outputs": [],
   "source": [
    "def swapNum(a,b):\n",
    "    temp=a\n",
    "    a=b\n",
    "    b=temp\n",
    "    return a,b\n",
    "print(swapNum(5,6))"
   ]
  },
  {
   "metadata": {},
   "cell_type": "code",
   "outputs": [],
   "execution_count": null,
   "source": [
    "class Solution(object):\n",
    "    def romanToInt(self, s):\n",
    "        \"\"\"\n",
    "        :type s: str\n",
    "        :rtype: int\n",
    "        \"\"\"\n",
    "        string={\n",
    "            \"I\": 1,\n",
    "            \"V\": 5,\n",
    "            \"X\": 10,\n",
    "            \"L\": 50,\n",
    "            \"C\": 100,\n",
    "            \"D\": 500,\n",
    "            \"M\": 1000,\n",
    "        }\n",
    "        \n",
    "\n",
    "     \n",
    "\n",
    "\n",
    "\n",
    "\n",
    "\n",
    "\n",
    "\n",
    "\n"
   ],
   "id": "43537fcd912b445"
  },
  {
   "metadata": {},
   "cell_type": "code",
   "outputs": [],
   "execution_count": null,
   "source": [
    "class Solution(object):\n",
    "    def romanToInt(self, s):\n",
    "\n",
    "        result_number = 0\n",
    "        prevous_number = 0\n",
    "        mapping = {'I':1,\n",
    "                   'V':5,\n",
    "                   'X':10,\n",
    "                   'L':50,\n",
    "                   'C':100,\n",
    "                   'D':500,\n",
    "                   'M':1000}\n",
    "        for symbol in string[::-1]:\n",
    "            if mapping[symbol] >= prevous_number:\n",
    "                result_number += mapping[symbol]\n",
    "        else:\n",
    "            result_number -= mapping[symbol]\n",
    "        prevous_number = mapping[symbol]\n",
    "        return result_number"
   ],
   "id": "a25b57f2a102c19e"
  },
  {
   "metadata": {},
   "cell_type": "code",
   "outputs": [],
   "execution_count": null,
   "source": [
    "class Solution:\n",
    "    def romanToInt(self, s: str) -> int:\n",
    "        roman_to_integer = {'I': 1,\n",
    "                            'V': 5,\n",
    "                            'X': 10,\n",
    "                            'L': 50,\n",
    "                            'C': 100,\n",
    "                            'D': 500,\n",
    "                            'M': 1000}\n",
    "\n",
    "        s = s.replace('IV', 'IIII') \\\n",
    "            .replace('IX', 'VIIII') \\\n",
    "            .replace('XL', 'XXXX') \\\n",
    "            .replace('XC', 'LXXXX') \\\n",
    "            .replace('CD', 'CCCC') \\\n",
    "            .replace('CM', 'DCCCC')\n",
    "\n",
    "        return sum(map(roman_to_integer.get, s))"
   ],
   "id": "1c126749bc4feb83"
  },
  {
   "metadata": {
    "ExecuteTime": {
     "end_time": "2024-07-17T21:54:09.434654Z",
     "start_time": "2024-07-17T21:54:09.429104Z"
    }
   },
   "cell_type": "code",
   "source": [
    "def romanToInt(s: str) -> int:\n",
    "    # Define the Roman numeral values\n",
    "    roman_to_int = {\n",
    "        'I': 1,\n",
    "        'V': 5,\n",
    "        'X': 10,\n",
    "        'L': 50,\n",
    "        'C': 100,\n",
    "        'D': 500,\n",
    "        'M': 1000\n",
    "    }\n",
    "\n",
    "    total = 0\n",
    "    length = len(s)\n",
    "\n",
    "    for i in range(length):\n",
    "        # If the current value is less than the next value, subtract it\n",
    "        if i + 1 < length and roman_to_int[s[i]] < roman_to_int[s[i + 1]]:\n",
    "            total -= roman_to_int[s[i]]\n",
    "        # Otherwise, add it\n",
    "        else:\n",
    "            total += roman_to_int[s[i]]\n",
    "\n",
    "    return total\n",
    "\n",
    "# Example usage:\n",
    "print(romanToInt(\"III\"))    # Output: 3\n",
    "print(romanToInt(\"LVIII\"))  # Output: 58\n",
    "print(romanToInt(\"MCMXCIV\"))  # Output: 1994\n"
   ],
   "id": "e13ca524f2752826",
   "outputs": [
    {
     "name": "stdout",
     "output_type": "stream",
     "text": [
      "3\n",
      "58\n",
      "1994\n"
     ]
    }
   ],
   "execution_count": 1
  },
  {
   "metadata": {
    "ExecuteTime": {
     "end_time": "2024-07-18T22:51:50.280229Z",
     "start_time": "2024-07-18T22:51:50.269194Z"
    }
   },
   "cell_type": "code",
   "source": [
    "def decimal_to_binary_enumerator(n):\n",
    "    # Print numbers from 1 to 2^n in binary format\n",
    "    for i in range(1, 2**n + 1):\n",
    "        print(bin(i)[2:])\n",
    "\n",
    "# Example usage:\n",
    "decimal_to_binary_enumerator(3)\n"
   ],
   "id": "82807cf72a569dbb",
   "outputs": [
    {
     "name": "stdout",
     "output_type": "stream",
     "text": [
      "1\n",
      "10\n",
      "11\n",
      "100\n",
      "101\n",
      "110\n",
      "111\n",
      "1000\n"
     ]
    }
   ],
   "execution_count": 2
  },
  {
   "metadata": {
    "ExecuteTime": {
     "end_time": "2024-07-18T23:05:01.518024Z",
     "start_time": "2024-07-18T23:05:01.510723Z"
    }
   },
   "cell_type": "code",
   "source": [
    "def greatestCoomonDivider(a, b):\n",
    "    while b != 0:\n",
    "        a, b = b, a % b\n",
    "    return a\n",
    "\n",
    "# Example usage:\n",
    "print(greatestCoomonDivider(36, 6))  # Output: 6\n"
   ],
   "id": "f52b43a2c96068ba",
   "outputs": [
    {
     "name": "stdout",
     "output_type": "stream",
     "text": [
      "6\n"
     ]
    }
   ],
   "execution_count": 3
  },
  {
   "metadata": {},
   "cell_type": "code",
   "outputs": [],
   "execution_count": null,
   "source": "",
   "id": "4e68d6dcc70293a7"
  }
 ],
 "metadata": {
  "kernelspec": {
   "display_name": "Python 3",
   "language": "python",
   "name": "python3"
  },
  "language_info": {
   "codemirror_mode": {
    "name": "ipython",
    "version": 2
   },
   "file_extension": ".py",
   "mimetype": "text/x-python",
   "name": "python",
   "nbconvert_exporter": "python",
   "pygments_lexer": "ipython2",
   "version": "2.7.6"
  }
 },
 "nbformat": 4,
 "nbformat_minor": 5
}
