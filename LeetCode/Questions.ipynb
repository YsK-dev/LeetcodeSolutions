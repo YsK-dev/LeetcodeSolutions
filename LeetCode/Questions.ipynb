{
 "cells": [
  {
   "metadata": {},
   "cell_type": "markdown",
   "source": "⁉️⁉️⁉️⁉️⁉️⁉️⁉️",
   "id": "73caa6e19cc7801c"
  },
  {
   "cell_type": "code",
   "id": "initial_id",
   "metadata": {
    "collapsed": true,
    "ExecuteTime": {
     "end_time": "2024-07-17T13:55:06.539219Z",
     "start_time": "2024-07-17T13:55:06.532138Z"
    }
   },
   "source": "\"\"\"Here I try to solve Two sum problem from LeetCode Questions\"\"\"",
   "outputs": [
    {
     "data": {
      "text/plain": [
       "'Here I try to solve Two sum problem from LeetCode Questions'"
      ]
     },
     "execution_count": 2,
     "metadata": {},
     "output_type": "execute_result"
    }
   ],
   "execution_count": 2
  },
  {
   "metadata": {},
   "cell_type": "code",
   "outputs": [],
   "execution_count": null,
   "source": [
    "from typing import List\n",
    "\n",
    "class Solution:\n",
    "    def twoSum(self, nums: List[int], target: int) -> List[int]:\n",
    "        num_map = {}\n",
    "        for i, num in enumerate(nums):\n",
    "            complement = target - num\n",
    "            if complement in num_map:\n",
    "                return [num_map[complement], i]\n",
    "            num_map[num] = i\n",
    "        return []\n",
    "\n",
    "if __name__ == \"__main__\":\n",
    "    # Get input from user\n",
    "    user_input = input(\"Lütfen birkaç sayı giriniz (virgülle ayrılmış): \")\n",
    "    print(f\"Input numbers: {user_input}\")\n",
    "    try:\n",
    "        nums = list(map(int, user_input.split(',')))\n",
    "        print(f\"Parsed numbers: {nums}\")\n",
    "    except ValueError as e:\n",
    "        print(f\"Hata: Geçersiz sayı girdiniz. {e}\")\n",
    "        exit(1)\n",
    "\n",
    "    try:\n",
    "        user_target = int(input(\"Hedef sayıyı giriniz: \"))\n",
    "        print(f\"Target number: {user_target}\")\n",
    "    except ValueError as e:\n",
    "        print(f\"Hata: Geçersiz hedef sayı girdiniz. {e}\")\n",
    "        exit(1)\n",
    "\n",
    "    # Create Solution instance and call twoSum\n",
    "    solution = Solution()\n",
    "    result = solution.twoSum(nums, user_target)\n",
    "\n",
    "    # Print the result\n",
    "    if result:\n",
    "        print(f\"Çözüm: {result}\")\n",
    "    else:\n",
    "        print(\"Çözüm bulunamadı.\")\n"
   ],
   "id": "39ea93cd9f6b9f96"
  },
  {
   "metadata": {},
   "cell_type": "code",
   "outputs": [],
   "execution_count": null,
   "source": [
    "from typing import List\n",
    "\n",
    "class Solution:\n",
    "    def twoSum(self, nums: List[int], target: int) -> List[int]:\n",
    "        for i in range(len(nums)):\n",
    "            for j in range(i + 1, len(nums)):\n",
    "                if nums[i] + nums[j] == target:\n",
    "                    return [i, j]\n",
    "        # If no solution is found, raise an exception or return an empty list\n",
    "        raise ValueError(\"No two sum solution\")\n",
    "\n",
    "if __name__ == \"__main__\":\n",
    "    # Get input from user\n",
    "    user_input = input(\"Lütfen birkaç sayı giriniz (virgülle ayrılmış): \")\n",
    "    try:\n",
    "        nums = list(map(int, user_input.split(',')))\n",
    "        print(f\"Parsed numbers: {nums}\")\n",
    "    except ValueError as e:\n",
    "        print(f\"Hata: Geçersiz sayı girdiniz. {e}\")\n",
    "        exit(1)\n",
    "\n",
    "    try:\n",
    "        user_target = int(input(\"Hedef sayıyı giriniz: \"))\n",
    "        print(f\"Target number: {user_target}\")\n",
    "    except ValueError as e:\n",
    "        print(f\"Hata: Geçersiz hedef sayı girdiniz. {e}\")\n",
    "        exit(1)\n",
    "\n",
    "    # Create Solution instance and call twoSum\n",
    "    solution = Solution()\n",
    "    try:\n",
    "        result = solution.twoSum(nums, user_target)\n",
    "        print(f\"Çözüm: {result}\")\n",
    "    except ValueError as e:\n",
    "        print(f\"Hata: {e}\")\n"
   ],
   "id": "270edc794e4d4c90"
  },
  {
   "metadata": {},
   "cell_type": "code",
   "outputs": [],
   "execution_count": null,
   "source": [
    "from typing import List\n",
    "\n",
    "class Solution:\n",
    "    def twoSum(self, nums: List[int], target: int) -> List[int]:\n",
    "        for i in range(len(nums)):\n",
    "            for j in range(i + 1, len(nums)):\n",
    "                if nums[i] + nums[j] == target:\n",
    "                    return [i, j]\n",
    "        return [0, 1]\n"
   ],
   "id": "2fa02625542ac23a"
  },
  {
   "metadata": {
    "ExecuteTime": {
     "end_time": "2024-07-17T19:25:35.887450Z",
     "start_time": "2024-07-17T19:25:35.883818Z"
    }
   },
   "cell_type": "code",
   "source": "",
   "id": "b103ba6b13e9fb21",
   "outputs": [
    {
     "name": "stdout",
     "output_type": "stream",
     "text": [
      "(6, 5)\n"
     ]
    }
   ],
   "execution_count": 5
  },
  {
   "metadata": {
    "ExecuteTime": {
     "end_time": "2024-07-17T21:38:32.748064Z",
     "start_time": "2024-07-17T21:38:32.744653Z"
    }
   },
   "cell_type": "code",
   "source": "",
   "id": "c0fe0f11a52dc6d5",
   "outputs": [],
   "execution_count": 16
  },
  {
   "metadata": {
    "ExecuteTime": {
     "end_time": "2024-07-17T21:46:46.708575Z",
     "start_time": "2024-07-17T21:46:46.700723Z"
    }
   },
   "cell_type": "code",
   "source": "",
   "id": "4e92aaa353ec0907",
   "outputs": [
    {
     "ename": "IndentationError",
     "evalue": "expected an indented block after 'if' statement on line 14 (3454086529.py, line 15)",
     "output_type": "error",
     "traceback": [
      "\u001B[0;36m  Cell \u001B[0;32mIn[18], line 15\u001B[0;36m\u001B[0m\n\u001B[0;31m    result_number += mapping[symbol]\u001B[0m\n\u001B[0m    ^\u001B[0m\n\u001B[0;31mIndentationError\u001B[0m\u001B[0;31m:\u001B[0m expected an indented block after 'if' statement on line 14\n"
     ]
    }
   ],
   "execution_count": 18
  },
  {
   "metadata": {
    "SqlCellData": {
     "variableName$1": "df_sql"
    }
   },
   "cell_type": "code",
   "outputs": [],
   "execution_count": null,
   "source": "%%sql\n",
   "id": "cd55d2c23991348e"
  },
  {
   "metadata": {
    "ExecuteTime": {
     "end_time": "2024-07-17T21:47:34.440790Z",
     "start_time": "2024-07-17T21:47:34.434875Z"
    }
   },
   "cell_type": "code",
   "source": "",
   "id": "1ce104657efc51e1",
   "outputs": [],
   "execution_count": 19
  },
  {
   "metadata": {},
   "cell_type": "code",
   "outputs": [],
   "execution_count": null,
   "source": "",
   "id": "8b660cf2e5655e5d"
  }
 ],
 "metadata": {
  "kernelspec": {
   "display_name": "Python 3",
   "language": "python",
   "name": "python3"
  },
  "language_info": {
   "codemirror_mode": {
    "name": "ipython",
    "version": 2
   },
   "file_extension": ".py",
   "mimetype": "text/x-python",
   "name": "python",
   "nbconvert_exporter": "python",
   "pygments_lexer": "ipython2",
   "version": "2.7.6"
  }
 },
 "nbformat": 4,
 "nbformat_minor": 5
}
