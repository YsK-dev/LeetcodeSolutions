{
 "cells": [
  {
   "metadata": {},
   "cell_type": "markdown",
   "source": "",
   "id": "8cb80e2f0efe3f7d"
  },
  {
   "metadata": {},
   "cell_type": "markdown",
   "source": [
    "THE MAster Theorem 👑 👑 👑 👑 👑\n",
    "\n",
    "\n",
    "![firstequaiton](1.png)\n",
    "\n",
    "\n",
    "Accomodate == karşılamak \n",
    "\n",
    "\n",
    "![thirdequaiton](2.png)\n",
    "\n",
    "\n",
    "![secondequaiton](3.png)\n",
    "\n",
    "\n",
    "![sendequaiton](4.png)"
   ],
   "id": "38dc87a2e5b0e64b"
  },
  {
   "metadata": {},
   "cell_type": "code",
   "execution_count": null,
   "source": "",
   "id": "e7a8fa907aebfeef",
   "outputs": []
  },
  {
   "metadata": {},
   "cell_type": "markdown",
   "source": "![sendequaiton](ex.png)",
   "id": "6cd7a7efd4a16ebe"
  },
  {
   "metadata": {
    "ExecuteTime": {
     "end_time": "2024-07-21T20:26:54.373229Z",
     "start_time": "2024-07-21T20:26:54.369501Z"
    }
   },
   "cell_type": "code",
   "source": [
    "def Theorem(n):\n",
    "    if n == 1: #step one\n",
    "        return 1  # first case\n",
    "    elif n>1:\n",
    "        return 2 * Theorem(n // 2) + 1 / n  # Recurrence relation showing\n",
    "    else:\n",
    "        print(\"There is no such thing sorry\")\n",
    "\n",
    "# Testing  the function with an example input\n",
    "x=int(input(\"Give me a number: \"))\n",
    "testResult = Theorem(x)\n",
    "print(f\"Result of The theorem --> ({x}) = {testResult}\")\n"
   ],
   "id": "abf50169e1787a53",
   "execution_count": 5,
   "outputs": []
  },
  {
   "metadata": {
    "ExecuteTime": {
     "end_time": "2024-07-21T21:00:48.673907Z",
     "start_time": "2024-07-21T21:00:48.577907Z"
    }
   },
   "cell_type": "code",
   "source": [
    "import matplotlib.pyplot as plt\n",
    "import numpy as np\n",
    "\n",
    "def Theorem(n):\n",
    "    if n == 1:\n",
    "        return 1\n",
    "    else:\n",
    "        return 2 * Theorem(n // 2) + 1 / n\n",
    "\n",
    "# Generate values\n",
    "n_values = range(1, 1025)\n",
    "T_values = [Theorem(n) for n in n_values]\n",
    "n_log_n_values = [n * np.log2(n) for n in n_values]\n",
    "\n",
    "# Plotting\n",
    "plt.figure(figsize=(16, 10))\n",
    "plt.plot(n_values, T_values, label='T(n)', color='green')\n",
    "plt.plot(n_values, n_log_n_values, label=' n log n', color='#000f89', linestyle='dashdot')\n",
    "plt.xlabel('n')\n",
    "plt.ylabel('T(n) and n log n')\n",
    "plt.title('Comparison of T(n) and n log n')\n",
    "plt.legend()\n",
    "plt.grid(False)\n",
    "# showing the final plot\n",
    "plt.show()\n"
   ],
   "id": "69f7b02a63c7d709",
   "execution_count": 21,
   "outputs": []
  },
  {
   "metadata": {
    "ExecuteTime": {
     "end_time": "2024-07-22T01:45:25.609213Z",
     "start_time": "2024-07-22T01:45:25.606792Z"
    }
   },
   "cell_type": "code",
   "source": "",
   "id": "cb9221411d45f4e1",
   "execution_count": null,
   "outputs": []
  },
  {
   "metadata": {
    "ExecuteTime": {
     "end_time": "2024-07-22T01:45:25.612114Z",
     "start_time": "2024-07-22T01:45:25.610519Z"
    }
   },
   "cell_type": "code",
   "source": "",
   "id": "4e8b6620ee3c0530",
   "execution_count": null,
   "outputs": []
  },
  {
   "metadata": {
    "ExecuteTime": {
     "end_time": "2024-07-22T01:45:25.615078Z",
     "start_time": "2024-07-22T01:45:25.612971Z"
    }
   },
   "cell_type": "code",
   "source": "",
   "id": "3076a898b9e6ec26",
   "execution_count": null,
   "outputs": []
  },
  {
   "metadata": {},
   "cell_type": "code",
   "execution_count": null,
   "source": "",
   "id": "9113a8462387a4f1",
   "outputs": []
  }
 ],
 "metadata": {
  "kernelspec": {
   "display_name": "Python 3",
   "language": "python",
   "name": "python3"
  },
  "language_info": {
   "codemirror_mode": {
    "name": "ipython",
    "version": 2
   },
   "file_extension": ".py",
   "mimetype": "text/x-python",
   "name": "python",
   "nbconvert_exporter": "python",
   "pygments_lexer": "ipython2",
   "version": "2.7.6"
  }
 },
 "nbformat": 4,
 "nbformat_minor": 5
}
