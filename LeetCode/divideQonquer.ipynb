{
 "cells": [
  {
   "cell_type": "code",
   "execution_count": null,
   "id": "initial_id",
   "metadata": {
    "collapsed": true
   },
   "outputs": [],
   "source": [
    ""
   ]
  },
  {
   "metadata": {},
   "cell_type": "markdown",
   "source": [
    "Divide and conquer is a powerful algorithm design paradigm that works by breaking a problem into smaller subproblems, solving each subproblem independently, and then combining their solutions to solve the original problem. Here is an example of a divide and conquer algorithm for merge sort:\n",
    "\n",
    "Merge Sort Algorithm\n",
    "Merge sort is a classic example of the divide and conquer approach. It sorts an array by recursively dividing it into two halves, sorting each half, and then merging the sorted halves to produce the sorted array.\n",
    "\n",
    "Pseudocode for Merge Sort\n"
   ],
   "id": "32762cfabd3887be"
  },
  {
   "metadata": {},
   "cell_type": "markdown",
   "source": [
    "\n",
    "MergeSort(arr[], l, r)\n",
    "    if l < r\n",
    "        // Find the middle point\n",
    "        m = l + (r - l) / 2\n",
    "\n",
    "        // Sort first and second halves\n",
    "        MergeSort(arr, l, m)\n",
    "        MergeSort(arr, m + 1, r)\n",
    "\n",
    "        // Merge the sorted halves\n",
    "        Merge(arr, l, m, r)\n",
    "\n",
    "Merge(arr[], l, m, r)\n",
    "    n1 = m - l + 1\n",
    "    n2 = r - m\n",
    "\n",
    "    // Create temporary arrays\n",
    "    L[n1], R[n2]\n",
    "\n",
    "    // Copy data to temp arrays L[] and R[]\n",
    "    for i = 0 to n1 - 1\n",
    "        L[i] = arr[l + i]\n",
    "    for j = 0 to n2 - 1\n",
    "        R[j] = arr[m + 1 + j]\n",
    "\n",
    "    // Merge the temp arrays back into arr[l..r]\n",
    "    i = 0 // Initial index of first subarray\n",
    "    j = 0 // Initial index of second subarray\n",
    "    k = l // Initial index of merged subarray\n",
    "\n",
    "    while i < n1 and j < n2\n",
    "        if L[i] <= R[j]\n",
    "            arr[k] = L[i]\n",
    "            i = i + 1\n",
    "        else\n",
    "            arr[k] = R[j]\n",
    "            j = j + 1\n",
    "        k = k + 1\n",
    "\n",
    "    // Copy the remaining elements of L[], if any\n",
    "    while i < n1\n",
    "        arr[k] = L[i]\n",
    "        i = i + 1\n",
    "        k = k + 1\n",
    "\n",
    "    // Copy the remaining elements of R[], if any\n",
    "    while j < n2\n",
    "        arr[k] = R[j]\n",
    "        j = j + 1\n",
    "        k = k + 1"
   ],
   "id": "92ee78e5a10d20df"
  },
  {
   "metadata": {},
   "cell_type": "markdown",
   "source": [
    "Explanation\n",
    "Divide: The array is divided into two halves.\n",
    "Conquer: Each half is sorted recursively.\n",
    "Combine: The two sorted halves are merged to produce the sorted array.\n",
    "Implementation in Python\n",
    "Here is the Python implementation of the merge sort algorithm:"
   ],
   "id": "2ab65830447faba6"
  },
  {
   "metadata": {
    "ExecuteTime": {
     "end_time": "2024-07-20T11:44:40.787061Z",
     "start_time": "2024-07-20T11:44:40.780317Z"
    }
   },
   "cell_type": "code",
   "source": [
    "\n",
    "\n",
    "\n",
    "\n",
    "def merge_sort(arr):\n",
    "    if len(arr) > 1:\n",
    "        mid = len(arr) // 2  # Finding the middle of the array\n",
    "        L = arr[:mid]        # Dividing the elements into 2 halves\n",
    "        R = arr[mid:]\n",
    "\n",
    "        merge_sort(L)        # Sorting the first half\n",
    "        merge_sort(R)        # Sorting the second half\n",
    "\n",
    "        i = j = k = 0\n",
    "\n",
    "        # Copy data to temp arrays L[] and R[]\n",
    "        while i < len(L) and j < len(R):\n",
    "            if L[i] < R[j]:\n",
    "                arr[k] = L[i]\n",
    "                i += 1\n",
    "            else:\n",
    "                arr[k] = R[j]\n",
    "                j += 1\n",
    "            k += 1\n",
    "\n",
    "        # Checking if any element was left\n",
    "        while i < len(L):\n",
    "            arr[k] = L[i]\n",
    "            i += 1\n",
    "            k += 1\n",
    "\n",
    "        while j < len(R):\n",
    "            arr[k] = R[j]\n",
    "            j += 1\n",
    "            k += 1\n",
    "\n",
    "# Example usage\n",
    "arr = [12, 11, 13, 5, 6, 7]\n",
    "print(\"Given array is\", arr)\n",
    "merge_sort(arr)\n",
    "print(\"Sorted array is\", arr)\n",
    "\n",
    "\n",
    "\n",
    "\n",
    "\n"
   ],
   "id": "dbdb94f2ace23d6",
   "outputs": [
    {
     "name": "stdout",
     "output_type": "stream",
     "text": [
      "Given array is [12, 11, 13, 5, 6, 7]\n",
      "Sorted array is [5, 6, 7, 11, 12, 13]\n"
     ]
    }
   ],
   "execution_count": 9
  },
  {
   "metadata": {},
   "cell_type": "markdown",
   "source": [
    "Key Points\n",
    "Divide: The array is continuously divided into halves until the base case (a single element or empty array) is reached.\n",
    "Conquer: Each half is sorted recursively by further division and conquering.\n",
    "Combine: The sorted halves are merged together to form the sorted array.\n",
    "This example demonstrates the power and elegance of the divide and conquer paradigm in algorithm design.\n",
    "\n"
   ],
   "id": "59695e9a84f60fa2"
  }
 ],
 "metadata": {
  "kernelspec": {
   "display_name": "Python 3",
   "language": "python",
   "name": "python3"
  },
  "language_info": {
   "codemirror_mode": {
    "name": "ipython",
    "version": 2
   },
   "file_extension": ".py",
   "mimetype": "text/x-python",
   "name": "python",
   "nbconvert_exporter": "python",
   "pygments_lexer": "ipython2",
   "version": "2.7.6"
  }
 },
 "nbformat": 4,
 "nbformat_minor": 5
}
