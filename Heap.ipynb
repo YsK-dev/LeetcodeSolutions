{
 "cells": [
  {
   "metadata": {
    "ExecuteTime": {
     "end_time": "2024-07-22T23:57:55.900895Z",
     "start_time": "2024-07-22T23:57:55.893316Z"
    }
   },
   "cell_type": "code",
   "source": [
    "#creting a class for max heap\n",
    "class MaxHeap:\n",
    "    def __init__(self):\n",
    "        self.heap = []\n",
    "\n",
    "    def parent(self, i):\n",
    "        return (i ) // 2\n",
    "\n",
    "    def leftChild(self, i):\n",
    "        return 2 * i \n",
    "\n",
    "    def rightChild(self, i):\n",
    "        return 2 * i + 1\n",
    "#key is target value that we lookıng for\n",
    "    def insert(self, key):\n",
    "        self.heap.append(key)\n",
    "        self.heapify_up(len(self.heap) - 1)\n",
    "\n",
    "    def heapify_up(self, index):\n",
    "        while index != 0 and self.heap[self.parent(index)] < self.heap[index]:\n",
    "            self.heap[self.parent(index)], self.heap[index] = self.heap[index], self.heap[self.parent(index)]\n",
    "            index = self.parent(index)\n",
    "\n",
    "    def extractMax(self):\n",
    "        if len(self.heap) == 0:\n",
    "            return None\n",
    "        root = self.heap[0]\n",
    "        self.heap[0] = self.heap[-1]\n",
    "        self.heap.pop()\n",
    "        self.heapify_down(0)\n",
    "        return root\n",
    "\n",
    "    def heapify_down(self, index):\n",
    "        largest = index\n",
    "        left = self.leftChild(index)\n",
    "        right = self.rightChild(index)\n",
    "\n",
    "        if left < len(self.heap) and self.heap[left] > self.heap[largest]:\n",
    "            largest = left\n",
    "\n",
    "        if right < len(self.heap) and self.heap[right] > self.heap[largest]:\n",
    "            largest = right\n",
    "\n",
    "        if largest != index:\n",
    "            self.heap[index], self.heap[largest] = self.heap[largest], self.heap[index]\n",
    "            self.heapify_down(largest)\n",
    "\n",
    "# Example Usage\n",
    "max_heap = MaxHeap()\n",
    "max_heap.insert(3)\n",
    "max_heap.insert(10)\n",
    "max_heap.insert(5)\n",
    "max_heap.insert(6)\n",
    "max_heap.insert(2)\n",
    "print(\"Max Heap:\", max_heap.heap)\n",
    "print(\"Extracted Max:\", max_heap.extractMax())\n",
    "print(\"Max Heap after extraction:\", max_heap.heap)\n"
   ],
   "id": "6e3aa0ff795e455e",
   "outputs": [
    {
     "name": "stdout",
     "output_type": "stream",
     "text": [
      "Max Heap: [10, 6, 3, 5, 2]\n",
      "Extracted Max: 10\n",
      "Max Heap after extraction: [6, 5, 3, 2]\n"
     ]
    }
   ],
   "execution_count": 1
  },
  {
   "metadata": {},
   "cell_type": "code",
   "outputs": [],
   "execution_count": null,
   "source": "",
   "id": "d369c8540119f38c"
  }
 ],
 "metadata": {
  "kernelspec": {
   "display_name": "Python 3",
   "language": "python",
   "name": "python3"
  },
  "language_info": {
   "codemirror_mode": {
    "name": "ipython",
    "version": 2
   },
   "file_extension": ".py",
   "mimetype": "text/x-python",
   "name": "python",
   "nbconvert_exporter": "python",
   "pygments_lexer": "ipython2",
   "version": "2.7.6"
  }
 },
 "nbformat": 4,
 "nbformat_minor": 5
}
